{
 "cells": [
  {
   "cell_type": "code",
   "execution_count": 2,
   "id": "58b0df8c",
   "metadata": {},
   "outputs": [],
   "source": [
    "import re"
   ]
  },
  {
   "cell_type": "code",
   "execution_count": 3,
   "id": "283323da",
   "metadata": {},
   "outputs": [],
   "source": [
    "# Token types\n",
    "TOKEN_TYPES = {\n",
    "    'NUMBER': r'\\d+',\n",
    "    'IDENTIFIER': r'[a-zA-Z_][a-zA-Z0-9_]*',\n",
    "    'OPERATOR': r'[+\\-*/]',\n",
    "    'PARENTHESIS': r'[()\\[\\]{}]',\n",
    "    'WHITESPACE': r'\\s+'\n",
    "}"
   ]
  },
  {
   "cell_type": "code",
   "execution_count": 4,
   "id": "976d36d8",
   "metadata": {},
   "outputs": [],
   "source": [
    "# Token class\n",
    "class Token:\n",
    "    def __init__(self, type, value):\n",
    "        self.type = type\n",
    "        self.value = value\n",
    "\n",
    "    def __str__(self):\n",
    "        return f'Token({self.type}, {self.value})'"
   ]
  },
  {
   "cell_type": "code",
   "execution_count": 5,
   "id": "cac1b26d",
   "metadata": {},
   "outputs": [],
   "source": [
    "# Lexical analyzer class\n",
    "class Lexer:\n",
    "    def __init__(self, source_code):\n",
    "        self.source_code = source_code\n",
    "        self.position = 0\n",
    "        self.tokens = []\n",
    "\n",
    "    def tokenize(self):\n",
    "        while self.position < len(self.source_code):\n",
    "            match = None\n",
    "            for token_type, pattern in TOKEN_TYPES.items():\n",
    "                regex = re.compile(pattern)\n",
    "                match = regex.match(self.source_code, self.position)\n",
    "                if match:\n",
    "                    value = match.group(0)\n",
    "                    token = Token(token_type, value)\n",
    "                    self.tokens.append(token)\n",
    "                    self.position = match.end()\n",
    "                    break\n",
    "\n",
    "            if not match:\n",
    "                print(f\"Unexpected character: {self.source_code[self.position]}\")\n",
    "                self.position += 1\n",
    "\n",
    "        return self.tokens"
   ]
  },
  {
   "cell_type": "code",
   "execution_count": 6,
   "id": "67ba14ef",
   "metadata": {},
   "outputs": [
    {
     "name": "stdout",
     "output_type": "stream",
     "text": [
      "Unexpected character: =\n",
      "Unexpected character: $\n",
      "Unexpected character: %\n",
      "Unexpected character: ^\n",
      "Unexpected character: &\n",
      "Token(IDENTIFIER, x)\n",
      "Token(WHITESPACE,  )\n",
      "Token(WHITESPACE,  )\n",
      "Token(NUMBER, 10)\n",
      "Token(WHITESPACE,  )\n",
      "Token(OPERATOR, +)\n",
      "Token(WHITESPACE,  )\n",
      "Token(NUMBER, 20)\n",
      "Token(WHITESPACE,  )\n",
      "Token(OPERATOR, *)\n",
      "Token(WHITESPACE,  )\n",
      "Token(PARENTHESIS, ()\n",
      "Token(NUMBER, 30)\n",
      "Token(WHITESPACE,  )\n",
      "Token(OPERATOR, -)\n",
      "Token(WHITESPACE,  )\n",
      "Token(NUMBER, 5)\n",
      "Token(PARENTHESIS, ))\n",
      "Token(WHITESPACE,  )\n"
     ]
    }
   ],
   "source": [
    "# Example usage\n",
    "if __name__ == \"__main__\":\n",
    "    # source_code = \"x = 10 + 20 * (30 - 5)\"\n",
    "    source_code = \"x = 10 + 20 * (30 - 5) $%^&\"\n",
    "    lexer = Lexer(source_code)\n",
    "    tokens = lexer.tokenize()\n",
    "\n",
    "    for token in tokens:\n",
    "        print(token)"
   ]
  },
  {
   "cell_type": "code",
   "execution_count": null,
   "id": "50810724-29ae-4fe1-8d9a-df2830b9254d",
   "metadata": {},
   "outputs": [],
   "source": []
  }
 ],
 "metadata": {
  "kernelspec": {
   "display_name": "Python 3 (ipykernel)",
   "language": "python",
   "name": "python3"
  },
  "language_info": {
   "codemirror_mode": {
    "name": "ipython",
    "version": 3
   },
   "file_extension": ".py",
   "mimetype": "text/x-python",
   "name": "python",
   "nbconvert_exporter": "python",
   "pygments_lexer": "ipython3",
   "version": "3.11.5"
  }
 },
 "nbformat": 4,
 "nbformat_minor": 5
}
