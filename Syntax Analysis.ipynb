{
 "cells": [
  {
   "cell_type": "code",
   "execution_count": 1,
   "id": "745eecc4-e6a3-4935-9838-f5de9da8a3b6",
   "metadata": {},
   "outputs": [
    {
     "name": "stdout",
     "output_type": "stream",
     "text": [
      "  5\n",
      "  9\n",
      "  2\n",
      "  +\n",
      "  *\n",
      "Syntax is correct\n"
     ]
    }
   ],
   "source": [
    "class RecursiveDescentParser:\n",
    "    def __init__(self, input_string):\n",
    "        self.input_string = input_string\n",
    "        self.index = 0\n",
    "        self.current_token = None\n",
    "\n",
    "    def next_token(self):\n",
    "        while self.index < len(self.input_string) and self.input_string[self.index].isspace():\n",
    "            self.index += 1\n",
    "\n",
    "        if self.index < len(self.input_string):\n",
    "            self.current_token = self.input_string[self.index]\n",
    "            self.index += 1\n",
    "        else:\n",
    "            self.current_token = None\n",
    "\n",
    "    def match(self, expected_token):\n",
    "        if self.current_token == expected_token:\n",
    "            self.next_token()\n",
    "        else:\n",
    "            raise SyntaxError(f\"Expected {expected_token}, but got {self.current_token}\")\n",
    "\n",
    "    def parse_expression(self):\n",
    "        self.parse_term()\n",
    "        while self.current_token in ('+', '-'):\n",
    "            op = self.current_token\n",
    "            self.next_token()\n",
    "            self.parse_term()\n",
    "            print(f\"  {op}\")\n",
    "\n",
    "    def parse_term(self):\n",
    "        self.parse_factor()\n",
    "        while self.current_token in ('*', '/'):\n",
    "            op = self.current_token\n",
    "            self.next_token()\n",
    "            self.parse_factor()\n",
    "            print(f\"  {op}\")\n",
    "\n",
    "    def parse_factor(self):\n",
    "        if self.current_token.isdigit():\n",
    "            print(f\"  {self.current_token}\")\n",
    "            self.next_token()\n",
    "        elif self.current_token == '(':\n",
    "            self.next_token()\n",
    "            self.parse_expression()\n",
    "            self.match(')')\n",
    "        else:\n",
    "            raise SyntaxError(f\"Unexpected token: {self.current_token}\")\n",
    "\n",
    "    def parse(self):\n",
    "        self.next_token()\n",
    "        self.parse_expression()\n",
    "        if self.current_token is not None and not self.current_token.isspace():\n",
    "            raise SyntaxError(\"Unexpected tokens after parsing\")\n",
    "        else:\n",
    "            print(\"Syntax is correct\")\n",
    "\n",
    "# Example usage:\n",
    "input_expr =\"5*( 9+2)\"\n",
    "parser = RecursiveDescentParser(input_expr)\n",
    "parser.parse()\n"
   ]
  },
  {
   "cell_type": "code",
   "execution_count": null,
   "id": "78059f48-ae4f-4bfc-a403-ea2db17c05c6",
   "metadata": {},
   "outputs": [],
   "source": []
  }
 ],
 "metadata": {
  "kernelspec": {
   "display_name": "Python 3 (ipykernel)",
   "language": "python",
   "name": "python3"
  },
  "language_info": {
   "codemirror_mode": {
    "name": "ipython",
    "version": 3
   },
   "file_extension": ".py",
   "mimetype": "text/x-python",
   "name": "python",
   "nbconvert_exporter": "python",
   "pygments_lexer": "ipython3",
   "version": "3.11.5"
  }
 },
 "nbformat": 4,
 "nbformat_minor": 5
}
